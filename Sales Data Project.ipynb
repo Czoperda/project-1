{
 "cells": [
  {
   "cell_type": "code",
   "execution_count": null,
   "id": "4129c6e2",
   "metadata": {},
   "outputs": [],
   "source": [
    "import pandas as pd\n",
    "from pathlib import Path\n",
    "import hvplot.pandas\n",
    "import matplotlib.pyplot as plt\n",
    "import numpy as np"
   ]
  },
  {
   "cell_type": "code",
   "execution_count": null,
   "id": "9a71f820",
   "metadata": {},
   "outputs": [],
   "source": [
    "# Read in csv data file\n",
    "\n",
    "data = pd.read_csv(\"data_archive/train.csv\")"
   ]
  },
  {
   "cell_type": "code",
   "execution_count": null,
   "id": "16a26c7b",
   "metadata": {},
   "outputs": [],
   "source": [
    "sales_df=pd.DataFrame(data)\n",
    "sales_df.head()"
   ]
  },
  {
   "cell_type": "code",
   "execution_count": null,
   "id": "f6c4ef81",
   "metadata": {},
   "outputs": [],
   "source": [
    "sales_df.count()"
   ]
  },
  {
   "cell_type": "code",
   "execution_count": null,
   "id": "56e143a0",
   "metadata": {},
   "outputs": [],
   "source": [
    "sales_df.dropna(axis=0, inplace=True)\n",
    "sales_df.count()"
   ]
  },
  {
   "cell_type": "code",
   "execution_count": null,
   "id": "04588fc0",
   "metadata": {},
   "outputs": [],
   "source": [
    "# Questions we want to answer about this data:\n",
    "# Where are the most orders being placed?\n",
    "#  -1 bar graph of sales data (count orders) grouped by state\n",
    "#  -1 geo data graph of sales data (count orders) by state with size of the circle=amount of orders\n",
    "\n",
    "# Where are different categories most popular?\n",
    "#  -group by category, count unique zip codes per category, bar graph of this information\n",
    "#  -create pie chart of regions where orders in different categories are placed\n",
    "\n",
    "# What products/sales are the most popular during specific times of the year?\n",
    "#  -line chart that tracks different categories over time\n",
    "#  -line chart tracking products within most popular category over time\n",
    "\n",
    "# Difference between Orders vs. Sales over time?\n",
    "#  -look at average number of items per order \n",
    "#  -(scatter plot) x-axis=total sales cost in order, y-axis=number of items in order\n",
    "#  -sales vs. time line graph "
   ]
  },
  {
   "cell_type": "code",
   "execution_count": null,
   "id": "4555669c",
   "metadata": {},
   "outputs": [],
   "source": []
  }
 ],
 "metadata": {
  "kernelspec": {
   "display_name": "Python 3 (ipykernel)",
   "language": "python",
   "name": "python3"
  },
  "language_info": {
   "codemirror_mode": {
    "name": "ipython",
    "version": 3
   },
   "file_extension": ".py",
   "mimetype": "text/x-python",
   "name": "python",
   "nbconvert_exporter": "python",
   "pygments_lexer": "ipython3",
   "version": "3.10.13"
  }
 },
 "nbformat": 4,
 "nbformat_minor": 5
}
